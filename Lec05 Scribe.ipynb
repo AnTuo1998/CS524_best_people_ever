{
 "cells": [
  {
   "cell_type": "markdown",
   "metadata": {
    "slideshow": {
     "slide_type": "slide"
    }
   },
   "source": [
    "# CS524: Introduction to Optimization Lecture 5\n",
    "\n",
    "#### Students:\n",
    "- Elizaveta Stepanova\n",
    "- Neal Desai\n",
    "- Spencer Du\n",
    "\n",
    "#### Lecture date:\n",
    "September 13, 2019\n",
    "\n",
    "#### References used:"
   ]
  },
  {
   "cell_type": "markdown",
   "metadata": {
    "slideshow": {
     "slide_type": "slide"
    }
   },
   "source": [
    "### Lecture Outline\n",
    "\n",
    "#### Last Time\n",
    "- Simple Input/Output LP\n",
    "- Sets: Algebraic Modeling\n",
    "\n",
    "#### Today\n",
    "- Another I/O model - The Diet Problem.\n",
    "- What can go wrong in LP?\n",
    "    - Unbounded / Infeasible / Degenerate LPs"
   ]
  },
  {
   "cell_type": "markdown",
   "metadata": {
    "slideshow": {
     "slide_type": "slide"
    }
   },
   "source": [
    "### Data - The Diet Problem\n",
    "<table>\n",
    "    <tr>\n",
    "        <th></th>\n",
    "        <th>QP</th>\n",
    "        <th>MD</th>\n",
    "        <th>BM</th>\n",
    "        <th>FF</th>\n",
    "        <th>MC</th>\n",
    "        <th>FR</th>\n",
    "        <th>SM</th>\n",
    "        <th>1M</th>\n",
    "        <th>OJ</th>\n",
    "        <th style=\"color:red\">Red'd</th>\n",
    "    </tr>\n",
    "    <tr>\n",
    "        <th style=\"color:red\">Cost</th>\n",
    "        <th>1.84</th>\n",
    "        <th>2.19</th>\n",
    "        <th>1.84</th>\n",
    "        <th>1.44</th>\n",
    "        <th>2.99</th>\n",
    "        <th>0.77</th>\n",
    "        <th>1.29</th>\n",
    "        <th>0.6</th>\n",
    "        <th>0.72</th>\n",
    "        <th></th>\n",
    "    </tr>\n",
    "    <tr>\n",
    "        <th>Prot</th>\n",
    "        <th>28</th>\n",
    "        <th>24</th>\n",
    "        <th>25</th>\n",
    "        <th>14</th>\n",
    "        <th>31</th>\n",
    "        <th>3</th>\n",
    "        <th>15</th>\n",
    "        <th>9</th>\n",
    "        <th>1</th>\n",
    "        <th>55</th>\n",
    "    </tr>\n",
    "    <tr>\n",
    "        <th>VitA</th>\n",
    "        <th>15</th>\n",
    "        <th>15</th>\n",
    "        <th>6</th>\n",
    "        <th>2</th>\n",
    "        <th>8</th>\n",
    "        <th>0</th>\n",
    "        <th>4</th>\n",
    "        <th>10</th>\n",
    "        <th>2</th>\n",
    "        <th>100</th>\n",
    "    </tr>\n",
    "    <tr>\n",
    "        <th>VitC</th>\n",
    "        <th>6</th>\n",
    "        <th>10</th>\n",
    "        <th>2</th>\n",
    "        <th>0</th>\n",
    "        <th>15</th>\n",
    "        <th>15</th>\n",
    "        <th>0</th>\n",
    "        <th>4</th>\n",
    "        <th>120</th>\n",
    "        <th>100</th>\n",
    "    </tr>\n",
    "     <tr>\n",
    "        <th>Calc</th>\n",
    "        <th>30</th>\n",
    "        <th>20</th>\n",
    "        <th>25</th>\n",
    "        <th>15</th>\n",
    "        <th>15</th>\n",
    "        <th>0</th>\n",
    "        <th>20</th>\n",
    "        <th>30</th>\n",
    "        <th>2</th>\n",
    "        <th>100</th>\n",
    "    </tr>\n",
    "    <tr>\n",
    "        <th>Iron</th>\n",
    "        <th>20</th>\n",
    "        <th>20</th>\n",
    "        <th>20</th>\n",
    "        <th>10</th>\n",
    "        <th>8</th>\n",
    "        <th>2</th>\n",
    "        <th>15</th>\n",
    "        <th>0</th>\n",
    "        <th>2</th>\n",
    "        <th>100</th>\n",
    "    </tr>\n",
    "    <tr>\n",
    "        <th>Cals</th>\n",
    "        <th>510</th>\n",
    "        <th>370</th>\n",
    "        <th>500</th>\n",
    "        <th>370</th>\n",
    "        <th>400</th>\n",
    "        <th>220</th>\n",
    "        <th>345</th>\n",
    "        <th>110</th>\n",
    "        <th>80</th>\n",
    "        <th>2000</th>\n",
    "    </tr>\n",
    "    <tr>\n",
    "        <th>Carb</th>\n",
    "        <th>34</th>\n",
    "        <th>33</th>\n",
    "        <th>42</th>\n",
    "        <th>38</th>\n",
    "        <th>42</th>\n",
    "        <th>26</th>\n",
    "        <th>27</th>\n",
    "        <th>12</th>\n",
    "        <th>20</th>\n",
    "        <th>350</th>\n",
    "    </tr>\n",
    "</table>\n",
    "\n",
    "When we typically get a problem, we get data that comes in some kind of table. Otherwise, we’ll have to extract data from the problem description that will end up that way. We’ll need row and column indices that will be described as sets. If you can identify sets, it will make your problem easier to solve."
   ]
  },
  {
   "cell_type": "markdown",
   "metadata": {
    "slideshow": {
     "slide_type": "slide"
    }
   },
   "source": [
    "### Quiz\n",
    "\n",
    "#### Let’s do it\n",
    "- Can you write an LP that will meet your daily nutritional requirements at a minimum cost?\n",
    "- How about a \"general\" model?\n",
    "    - Let's generate an general (abstract) model. Similar to BigTopBrass trophy example. We abstracted out the notion of the data (trophies and requirements). We made a general model for a particular problem. We’re going to do the same model today!\n"
   ]
  },
  {
   "cell_type": "markdown",
   "metadata": {
    "slideshow": {
     "slide_type": "slide"
    }
   },
   "source": [
    "### Elements of an Optimization\n",
    "#### Variables\n",
    "- What are we trying to decide?\n",
    "- How many of each item to eat.\n",
    "- Let $x_{j} $: Be the number of item $ j $ to eat.\n",
    "    - (e.g. $x_{QP}$: Number of quarter pounders).\n",
    "    \n",
    "#### Objective\n",
    "- Minimize cost\n",
    "- How much does a daily menu cost?"
   ]
  },
  {
   "cell_type": "markdown",
   "metadata": {
    "slideshow": {
     "slide_type": "slide"
    }
   },
   "source": [
    "### Costing\n",
    "- So if I bought my regular lunch: 3 quarter pounders, 2 small fries, and a 1% milk, my cost would be\n",
    "\n",
    "$$3*(1.84) + 2*(1.44) + 1*(0.6) = $9.00$$\n",
    "\n",
    "- A general expression for my cost as a function of my decision on what to buy is\n",
    "\n",
    "$$1.84x_{QP} + 2.19x_{MD} + 1.84x_{BM} + 1.44x_{FF} + 2.29x_{MC} + 0.77x_{FR} + 1.9x_{SM} + 0.6x_{1M} + 0.72x_{OJ}$$\n",
    "\n",
    "- This is our <font color=red>linear</font> objective function"
   ]
  },
  {
   "cell_type": "markdown",
   "metadata": {
    "slideshow": {
     "slide_type": "slide"
    }
   },
   "source": [
    "### The Diet Problem\n",
    "- My wife tells me that I need to get 100% of my daily nutritional requirements from eating at McGreasy's\n",
    "- A general expression for the daily amount of Vitamin A that I get by eating at McGreasy's is\n",
    "    - I could also eat 50 Filet-O-Fish to get my Vitamin A requirements!\n",
    "\n",
    "$$15x_{QP} + 15x_{MD} + 6x_{BM} + 2x_{FF} + 8x_{MC} + 4x_{SM} + 10x_{1M} + 2x_{OJ}$$\n",
    "\n",
    "- In general I need that\n",
    "\n",
    "$$15x_{QP} + 15x_{MD} + 6x_{BM} + 2x_{FF} + 8x_{MC} + 4x_{SM} + 10x_{1M} + 2x_{OJ} \\ge 100$$"
   ]
  },
  {
   "cell_type": "markdown",
   "metadata": {
    "slideshow": {
     "slide_type": "slide"
    }
   },
   "source": [
    "### The Final Model\n",
    "minimize\n",
    "\n",
    "$$1.84x_{QP} + 2.19x_{MD} + 1.84x_{BM} + 1.44x_{FF} + 2.29x_{MC} \\\\+ 0.77x_{FR} + 1.9x_{SM} + 0.6x_{1M} + 0.72x_{OJ}$$\n",
    "\n",
    "subject to\n",
    "\n",
    "<font color=red>Protein:</font>\n",
    "$$28x_{QP} + 2.19x_{MD} + 1.84x_{BM} + 1.44x_{FF} + 2.29x_{MC} \\\\+  0.77x_{FR} + 1.29x_{SM} + 0.6x_{1M} + 0.72x_{OJ} \\ge 55$$  \n",
    "<font color=red>Vitamin A:</font> \n",
    "$$15x_{QP} + 15x_{MD} + 6x_{BM} + 2x_{FF} + 8x_{MC} \\\\+ 4x_{SM} + 10x_{1M} + 2x_{OJ} \\ge 100$$  \n",
    "<font color=red>Vitamin C:</font>\n",
    "$$6x_{QP} + 10x_{MD} + 2x_{BM} + 15x_{MC} + 15x_{FR} \\\\+ 4x_{1M} + 120x_{OJ} \\ge 100$$\n",
    "<font color=red>Calcium:</font>\n",
    "$$30x_{QP} + 20x_{MD} + 25x_{BM} + 15x_{FF} + 15x_{MC} \\\\+ 20x_{SM} + 30x_{1M} + 2x_{OJ} \\ge 100$$  \n",
    "<font color=red>Iron: </font>\n",
    "$$20x_{QP} + 20x_{MD} + 20x_{BM} + 10x_{FF} + 8x_{MC} \\\\+ 2x_{FR} + 15x_{SM} + 2x_{OJ} \\ge 100$$  \n",
    "<font color=red>Calories:</font>\n",
    "$$510x_{QP} + 370x_{MD} + 500x_{BM} + 370x_{FF} + 400x_{MC} \\\\+ 220x_{FR} + 345x_{SM} + 110x_{1M} + 80x_{OJ} \\ge 2000$$ \n",
    "<font color=red>Carbs:</font>\n",
    "$$34x_{QP} + 35x_{MD} + 42x_{BM} + 38x_{FF} + 42x_{MC}\\\\ + 26x_{FR} + 27x_{SM} + 12x_{1M} + 20x_{OJ} \\ge 350$$  \n",
    "$$x_{QP}, x_{MD}, x_{BM}, x_{FF}, x_{MC}, x_{FR}, x_{SM}, x_{1M}, x_{OJ} \\ge 0$$  "
   ]
  },
  {
   "cell_type": "markdown",
   "metadata": {
    "slideshow": {
     "slide_type": "slide"
    }
   },
   "source": [
    "### The Sets View\n",
    "#### Set\n",
    "- $F$: Set of possible foods\n",
    "- $N$: Set of nutrional requirements\n",
    "\n",
    "#### Parameter\n",
    "- $c_j$: Per unit cost of item $j \\in F$\n",
    "- $i$ : Lower Bound on amount of nutrient $i \\in N$\n",
    "- $u_i$ : Upper Bound on amount of nutrient $i \\in N$\n",
    "- $a_{ij}$ : Amount of nutrient $i \\in N$ in food $j \\in F$\n",
    "\n",
    "#### Problem\n",
    "$$\n",
    "\\min \\sum_{j \\in F} c_jx_j \\\\\n",
    "l_i \\le \\sum_{j \\in F}a_{ij}x_j \\le u_i \\quad \\forall i \\in N \\\\\n",
    "x_j \\ge 0 \\quad \\forall j \\in F\n",
    "$$"
   ]
  },
  {
   "cell_type": "code",
   "execution_count": 25,
   "metadata": {
    "slideshow": {
     "slide_type": "slide"
    }
   },
   "outputs": [],
   "source": [
    "%load_ext gams_magic\n",
    "import matplotlib.pyplot as plt\n",
    "import mpl_toolkits\n",
    "import mpl_toolkits.axisartist as axisartist\n",
    "import numpy as np\n",
    "import pandas as pd\n",
    "\n",
    "def plot_init():\n",
    "    fig = plt.figure(figsize=(8, 8))\n",
    "    ax = axisartist.Subplot(fig, 111)\n",
    "    fig.add_axes(ax)\n",
    "    ax.axis[:].set_visible(False)\n",
    "\n",
    "    ax.axis[\"x\"] = ax.new_floating_axis(0, 0)\n",
    "    ax.axis[\"x\"].set_axisline_style(\"-|>\", size=1.0)\n",
    "    ax.axis[\"y\"] = ax.new_floating_axis(1, 0)\n",
    "    ax.axis[\"y\"].set_axisline_style(\"-|>\", size=1.0)\n",
    "    ax.axis[\"x\"].set_axis_direction(\"bottom\")\n",
    "    ax.axis[\"y\"].set_axis_direction(\"left\")\n",
    "    return ax"
   ]
  },
  {
   "cell_type": "code",
   "execution_count": 2,
   "metadata": {
    "slideshow": {
     "slide_type": "slide"
    }
   },
   "outputs": [
    {
     "data": {
      "text/html": [
       "<div>\n",
       "<style scoped>\n",
       "    .dataframe tbody tr th:only-of-type {\n",
       "        vertical-align: middle;\n",
       "    }\n",
       "\n",
       "    .dataframe tbody tr th {\n",
       "        vertical-align: top;\n",
       "    }\n",
       "\n",
       "    .dataframe thead th {\n",
       "        text-align: right;\n",
       "    }\n",
       "</style>\n",
       "<table border=\"1\" class=\"dataframe\">\n",
       "  <thead>\n",
       "    <tr style=\"text-align: right;\">\n",
       "      <th></th>\n",
       "      <th>Solver Status</th>\n",
       "      <th>Model Status</th>\n",
       "      <th>Objective</th>\n",
       "      <th>#equ</th>\n",
       "      <th>#var</th>\n",
       "      <th>Model Type</th>\n",
       "      <th>Solver</th>\n",
       "      <th>Solver Time</th>\n",
       "    </tr>\n",
       "  </thead>\n",
       "  <tbody>\n",
       "    <tr>\n",
       "      <td>0</td>\n",
       "      <td>Normal (1)</td>\n",
       "      <td>Optimal Global (1)</td>\n",
       "      <td>14.8557</td>\n",
       "      <td>8</td>\n",
       "      <td>10</td>\n",
       "      <td>LP</td>\n",
       "      <td>CPLEX</td>\n",
       "      <td>0.022</td>\n",
       "    </tr>\n",
       "  </tbody>\n",
       "</table>\n",
       "</div>"
      ],
      "text/plain": [
       "  Solver Status        Model Status  Objective #equ #var Model Type Solver  \\\n",
       "0    Normal (1)  Optimal Global (1)    14.8557    8   10         LP  CPLEX   \n",
       "\n",
       "  Solver Time  \n",
       "0       0.022  "
      ]
     },
     "execution_count": 2,
     "metadata": {},
     "output_type": "execute_result"
    }
   ],
   "source": [
    "%%gams\n",
    "$title McGreasy Diet Problem\n",
    "\n",
    "$ontext\n",
    "A simple diet model.\n",
    "Data taken from \"Optimization Models\",\n",
    "Chapter 1, by Robert Fourer.\n",
    "$offtext\n",
    "\n",
    "set food /QP, MD, BM, FF, MC, FR, SM, 1M, OJ/;\n",
    "set nutr /Prot, VitA, VitC, Calc, Iron, Cals, Carb/;\n",
    "\n",
    "table a(nutr,food)  per unit nutrients\n",
    "        QP  MD  BM  FF  MC  FR  SM  1M   OJ\n",
    "Prot    28  24  25  14  31   3  15   9    1\n",
    "VitA    15  15   6   2   8   0   4  10    2\n",
    "VitC     6  10   2   0  15  15   0   4  120\n",
    "Calc    30  20  25  15  15   0  20  30    2\n",
    "Iron    20  20  20  10   8   2  15   0    2\n",
    "Cals   510 370 500 370 400 220 345 110   80\n",
    "Carb    34  33  42  38  42  26  27  12   20\n",
    ";\n",
    "\n",
    "parameter min_nutr(nutr) /Prot 55, VitA 100, VitC 100, Calc 100,\n",
    "    Iron 100, Cals 2000, Carb 350 /;\n",
    "\n",
    "parameter cost(food) /QP 1.84, MD 2.19, BM 1.84, FF 1.44, MC 2.29,\n",
    "FR 0.77, SM 1.29, 1M 0.6, OJ 0.72 /;\n",
    "\n",
    "free variables\n",
    "    total_cost  Total Cost of Daily Diet\n",
    ";\n",
    "positive variables\n",
    "    x(food)     Number of each type of food to eat\n",
    ";\n",
    "\n",
    "\n",
    "equations\n",
    "    cost_eqn        Define Objective\n",
    "    min_nutr_eqn(nutr)    Minimum Daily Requirement\n",
    ";\n",
    "\n",
    "\n",
    "min_nutr_eqn(nutr)..\n",
    "    sum(food,a(nutr,food)*x(food)) =G= min_nutr(nutr) ;\n",
    "\n",
    "cost_eqn..\n",
    "    total_cost =E= sum(food,cost(food)*x(food)) ;\n",
    "\n",
    "model diet1 /cost_eqn, min_nutr_eqn/;\n",
    "solve diet1 using lp min total_cost;"
   ]
  },
  {
   "cell_type": "code",
   "execution_count": 3,
   "metadata": {
    "slideshow": {
     "slide_type": "slide"
    }
   },
   "outputs": [
    {
     "data": {
      "text/html": [
       "<div>\n",
       "<style scoped>\n",
       "    .dataframe tbody tr th:only-of-type {\n",
       "        vertical-align: middle;\n",
       "    }\n",
       "\n",
       "    .dataframe tbody tr th {\n",
       "        vertical-align: top;\n",
       "    }\n",
       "\n",
       "    .dataframe thead th {\n",
       "        text-align: right;\n",
       "    }\n",
       "</style>\n",
       "<table border=\"1\" class=\"dataframe\">\n",
       "  <thead>\n",
       "    <tr style=\"text-align: right;\">\n",
       "      <th></th>\n",
       "      <th>food</th>\n",
       "      <th>level</th>\n",
       "      <th>marginal</th>\n",
       "      <th>lower</th>\n",
       "      <th>upper</th>\n",
       "      <th>scale</th>\n",
       "    </tr>\n",
       "  </thead>\n",
       "  <tbody>\n",
       "    <tr>\n",
       "      <td>0</td>\n",
       "      <td>QP</td>\n",
       "      <td>4.385246</td>\n",
       "      <td>0.000000</td>\n",
       "      <td>0.0</td>\n",
       "      <td>inf</td>\n",
       "      <td>1.0</td>\n",
       "    </tr>\n",
       "    <tr>\n",
       "      <td>1</td>\n",
       "      <td>MD</td>\n",
       "      <td>0.000000</td>\n",
       "      <td>0.377705</td>\n",
       "      <td>0.0</td>\n",
       "      <td>inf</td>\n",
       "      <td>1.0</td>\n",
       "    </tr>\n",
       "    <tr>\n",
       "      <td>2</td>\n",
       "      <td>BM</td>\n",
       "      <td>0.000000</td>\n",
       "      <td>0.019148</td>\n",
       "      <td>0.0</td>\n",
       "      <td>inf</td>\n",
       "      <td>1.0</td>\n",
       "    </tr>\n",
       "    <tr>\n",
       "      <td>3</td>\n",
       "      <td>FF</td>\n",
       "      <td>0.000000</td>\n",
       "      <td>0.085344</td>\n",
       "      <td>0.0</td>\n",
       "      <td>inf</td>\n",
       "      <td>1.0</td>\n",
       "    </tr>\n",
       "    <tr>\n",
       "      <td>4</td>\n",
       "      <td>MC</td>\n",
       "      <td>0.000000</td>\n",
       "      <td>0.713672</td>\n",
       "      <td>0.0</td>\n",
       "      <td>inf</td>\n",
       "      <td>1.0</td>\n",
       "    </tr>\n",
       "    <tr>\n",
       "      <td>5</td>\n",
       "      <td>FR</td>\n",
       "      <td>6.147541</td>\n",
       "      <td>0.000000</td>\n",
       "      <td>0.0</td>\n",
       "      <td>inf</td>\n",
       "      <td>1.0</td>\n",
       "    </tr>\n",
       "    <tr>\n",
       "      <td>6</td>\n",
       "      <td>SM</td>\n",
       "      <td>0.000000</td>\n",
       "      <td>0.062410</td>\n",
       "      <td>0.0</td>\n",
       "      <td>inf</td>\n",
       "      <td>1.0</td>\n",
       "    </tr>\n",
       "    <tr>\n",
       "      <td>7</td>\n",
       "      <td>1M</td>\n",
       "      <td>3.422131</td>\n",
       "      <td>0.000000</td>\n",
       "      <td>0.0</td>\n",
       "      <td>inf</td>\n",
       "      <td>1.0</td>\n",
       "    </tr>\n",
       "    <tr>\n",
       "      <td>8</td>\n",
       "      <td>OJ</td>\n",
       "      <td>0.000000</td>\n",
       "      <td>0.062721</td>\n",
       "      <td>0.0</td>\n",
       "      <td>inf</td>\n",
       "      <td>1.0</td>\n",
       "    </tr>\n",
       "  </tbody>\n",
       "</table>\n",
       "</div>"
      ],
      "text/plain": [
       "  food     level  marginal  lower  upper  scale\n",
       "0   QP  4.385246  0.000000    0.0    inf    1.0\n",
       "1   MD  0.000000  0.377705    0.0    inf    1.0\n",
       "2   BM  0.000000  0.019148    0.0    inf    1.0\n",
       "3   FF  0.000000  0.085344    0.0    inf    1.0\n",
       "4   MC  0.000000  0.713672    0.0    inf    1.0\n",
       "5   FR  6.147541  0.000000    0.0    inf    1.0\n",
       "6   SM  0.000000  0.062410    0.0    inf    1.0\n",
       "7   1M  3.422131  0.000000    0.0    inf    1.0\n",
       "8   OJ  0.000000  0.062721    0.0    inf    1.0"
      ]
     },
     "metadata": {},
     "output_type": "display_data"
    },
    {
     "data": {
      "text/html": [
       "<div>\n",
       "<style scoped>\n",
       "    .dataframe tbody tr th:only-of-type {\n",
       "        vertical-align: middle;\n",
       "    }\n",
       "\n",
       "    .dataframe tbody tr th {\n",
       "        vertical-align: top;\n",
       "    }\n",
       "\n",
       "    .dataframe thead th {\n",
       "        text-align: right;\n",
       "    }\n",
       "</style>\n",
       "<table border=\"1\" class=\"dataframe\">\n",
       "  <thead>\n",
       "    <tr style=\"text-align: right;\">\n",
       "      <th></th>\n",
       "      <th>level</th>\n",
       "    </tr>\n",
       "    <tr>\n",
       "      <th>food</th>\n",
       "      <th></th>\n",
       "    </tr>\n",
       "  </thead>\n",
       "  <tbody>\n",
       "    <tr>\n",
       "      <td>1M</td>\n",
       "      <td>3.422131</td>\n",
       "    </tr>\n",
       "    <tr>\n",
       "      <td>FR</td>\n",
       "      <td>6.147541</td>\n",
       "    </tr>\n",
       "    <tr>\n",
       "      <td>QP</td>\n",
       "      <td>4.385246</td>\n",
       "    </tr>\n",
       "  </tbody>\n",
       "</table>\n",
       "</div>"
      ],
      "text/plain": [
       "         level\n",
       "food          \n",
       "1M    3.422131\n",
       "FR    6.147541\n",
       "QP    4.385246"
      ]
     },
     "metadata": {},
     "output_type": "display_data"
    }
   ],
   "source": [
    "%gams_pull -d x\n",
    "display(x)\n",
    "x = pd.pivot_table(x[x['level'] != 0], index=['food'], values=['level'])\n",
    "display(x)"
   ]
  },
  {
   "cell_type": "markdown",
   "metadata": {
    "slideshow": {
     "slide_type": "slide"
    }
   },
   "source": [
    "### Tips for Gams:  \n",
    "- command `$exit` can \"ignore the rest of the files\".\n",
    "- use `table a(nutr<, food<)` so we don’t have to list the set domains multiple times. The code will extract out the nutrients based on what is in the table. "
   ]
  },
  {
   "cell_type": "markdown",
   "metadata": {
    "slideshow": {
     "slide_type": "slide"
    }
   },
   "source": [
    "### Algebraic Modeling Languages\n",
    "- \"Mostly\" Linear and Integer Modeling Languages\n",
    "    - Mosel: From FICO. Available on CAE Windows machines\n",
    "    - OPL: From IBM\n",
    "    - [GLPK-Mathprog](http://www.gnu.org/software/glpk/)\n",
    "    - [PuLP](http://code.google.com/p/pulp-or/)\n",
    "    - [Pyomo](https://software.sandia.gov/trac/coopr/wiki/Pyomo)\n",
    "- Nonlinear Modeling Languages\n",
    "    - [GAMS](https://www.gams.com)\n",
    "        - GAMS is the biggest language used in economics and operations research. It is also easy to link to python.\n",
    "    - [LINGO](https://www.lindo.com)\n",
    "    - [MPL](https://www.maximal-usa.com)\n",
    "    - [AIMMS](https://www.aimms.com)\n",
    "    - [AMPL](https://www.ampl.com)"
   ]
  },
  {
   "cell_type": "markdown",
   "metadata": {
    "slideshow": {
     "slide_type": "slide"
    }
   },
   "source": [
    "### The Diet Problem in AMPL style\n",
    "\n",
    "```AMPL\n",
    "set NUTR; <br/>\n",
    "set FOOD;\n",
    "```\n",
    "---\n",
    "```AMPL\n",
    "param cost {FOOD} > 0; <br/>\n",
    "param f_min {FOOD} >= 0; <br/>\n",
    "param f_max {j in FOOD} >= f_min[j]; <br/>\n",
    "param n_min {NUTR} >= 0; <br/>\n",
    "param n_max {i in NUTR} >= n_min[i]; <br/>\n",
    "param amt {NUTR,FOOD} >= 0;\n",
    "```\n",
    "---\n",
    "```AMPL\n",
    "var Buy {j in FOOD} >= f_min[j], <= f_max[j];\n",
    "```\n",
    "---\n",
    "```AMPL\n",
    "minimize total_cost: sum {j in FOOD} cost[j] * Buy[j]; <br/>\n",
    "subject to diet {i in NUTR}: <br/>\n",
    "    n_min[i] <= sum {j in FOOD} amt[i,j] * Buy[j] <= n_max[i];\n",
    "```"
   ]
  },
  {
   "cell_type": "markdown",
   "metadata": {
    "slideshow": {
     "slide_type": "slide"
    }
   },
   "source": [
    "### NEOS\n",
    "- [NEOS](http://www.neos-server.org/) - <font color=red>N</font>etwork <font color=red>E</font>nabled <font color=red>O</font>ptimization <font color=red>S</font>erver\n",
    "- If you don't have access to a solver for your particular problem, thanks to the good people of the Wisconsin Institute of Discovery, you can have access to their solvers."
   ]
  },
  {
   "cell_type": "markdown",
   "metadata": {
    "slideshow": {
     "slide_type": "slide"
    }
   },
   "source": [
    "### Graphically Solving LP's\n",
    "- <font style=\"color:red\">Not</font> for production use, but gives insight into what the algorithm for solving the problem is doing\n",
    "\n",
    "#### Identify Feasible Region\n",
    "- Graph each constraint as an inequality\n",
    "- Note which side is feasible\n",
    "- Identify the feasible region: The set of all feasible solutions\n",
    "- Remember to include nonnegativity!\n",
    "\n",
    "#### \"Move\" Objective\n",
    "- Draw parallel \"isoprofit\" lines. (All points on each line give the same value of the objective function)\n",
    "- These are points that are orthogonal to the objective function vector\n",
    "- Optimal point(s) will be on the highest isoprofit line that touches the feasible region"
   ]
  },
  {
   "cell_type": "markdown",
   "metadata": {
    "slideshow": {
     "slide_type": "slide"
    }
   },
   "source": [
    "### Observations\n",
    "\n",
    "- Let's Think About Geometry\n",
    "If there exists an optimal solution to a LP instance, then there exists an optimal solution that exists at an extreme point of the feasible region.\n",
    "\n",
    "- <font style=\"color:red\">The simplex method </font>\n",
    "<font style=\"color:red\">0.</font> Start from an extreme point. <br />\n",
    "<font style=\"color:red\">1.</font> Find an improving direction d. If none exists, <font style=\"color:red\">STOP.</font> The extreme point is an optimal solution.<br />\n",
    "<font style=\"color:red\">2.</font> Move along d until you hit a new extreme point. <font style=\"color:red\">Go to 1.</font>"
   ]
  },
  {
   "cell_type": "markdown",
   "metadata": {
    "slideshow": {
     "slide_type": "slide"
    }
   },
   "source": [
    "### The Simplex Method\n",
    "- <font style=\"color: red\">The simplex method</font> is a systematic way in which to do the algebra necessary to do steps 0, 1, and 2.\n",
    "\n",
    "#### Some Definitions and Facts\n",
    "- An inequality $a^{T}x \\leq b$ is binding at $x$ if $a^{T}x = b$.\n",
    "- An extreme point is the intersection of at least $n$ inequalities in $\\mathbb{R}^{n}$.\n",
    "- Basis: The indices of the n inequalities that are \"binding\" at an extreme point solution. (The solution itself is sometimes called a <font style=\"color: red\">basic feasible solution</font>)."
   ]
  },
  {
   "cell_type": "markdown",
   "metadata": {},
   "source": [
    "### Simplex Method: Algorithm of the century?\n",
    "- ```http://orion.math.iastate.edu/burkardt/misc/algorithms_dongarra.html```\n",
    "- Does the simplex algorithm seem like it would be a good algorithm,much less the “algorithm of the century”?\n",
    "- Depends on how many extreme points – bases – there are?\n",
    "- Suppose I have <i>m</i> inequalities and <i>n</i> variables.\n",
    "- The number of extreme points can be expressed as the combination:\n",
    "\n",
    "$$\n",
    "  E(m,n) \\leq(\\begin{smallmatrix}\n",
    "    m  \\\\\n",
    "    n \n",
    "  \\end{smallmatrix}\\bigr)\n",
    "  = \\frac{m!}{n!(m-n)!}\n",
    "$$\n",
    "\n",
    "#### Scalability: There's big and then there's REALLY BIG\n",
    "- For instance, if m=1100 and n = 1000:\n",
    "- We end up with 1422967173622153536429816269821859287617187522528973242276876124026984785611024476217005167336675862280817664301537500761917294126969341076641376 extreme points\n",
    "- Expressed in scientific notation: $$1.42 \\times 10^{143}$$\n",
    "- To put that into context: $$(\\text{The number of subatomic particles in the universe})^2$$"
   ]
  },
  {
   "cell_type": "markdown",
   "metadata": {},
   "source": [
    "### A+++++++++++++++\n",
    "- If you can solve the following problem, you will get a very good grade:\n",
    "    - Given a polytope of dimension <i>n</i> consisting of <i>m</i> inequalities, there is a path between any two extreme points consisting of at most <i>m−n<i> edges.\n",
    "---\n",
    "- Before you waste your time, this is known as the <i>Hirsch Conjecture</i>. It is one of the most famous open problems in discrete mathematics.\n",
    "- It was <font style=\"color:red\">recently disproved</font> by Francisco Santos.\n",
    "    - The smallest counterexample found to date is a <i>n= 20</i> dimensional polytope with <i>m= 40</i> sides for which the shortest path between 2 vertices is 21.\n",
    "    - <font style=\"color:red\">Moral:</font>    Geometric intuition for High-dimensional objects can only take us so far..."
   ]
  },
  {
   "cell_type": "markdown",
   "metadata": {},
   "source": [
    "### The Simplex Method: What can go wrong?\n",
    "- Simplex method (step 2): Move along <i>d</i> until you hit an extreme point.\n",
    "- <font style=\"color:red\">What if we don't hit an extreme point?</font>\n",
    "$$\\max x_1 + x_2$$\n",
    "$$\\text{such that:  } x_1 + 2x_2 \\geq 1$$\n",
    "$$x_1,x_2\\geq0$$\n",
    "\n",
    "\n",
    "- Usually this means you forgot some constraints. Maybe your variable bounds?\n",
    "- Just because the <font style=\"color:red\">region</font> is unbounded doesn't mean the LP is unbounded. "
   ]
  },
  {
   "cell_type": "code",
   "execution_count": 66,
   "metadata": {},
   "outputs": [
    {
     "data": {
      "image/png": "[encoded data removed]",
      "text/plain": [
       "<Figure size 576x576 with 1 Axes>"
      ]
     },
     "metadata": {
      "needs_background": "light"
     },
     "output_type": "display_data"
    }
   ],
   "source": [
    "ax = plot_init()\n",
    "\n",
    "x1 = np.arange(-0.2, 1.3, 0.01)\n",
    "x2 = (-x1 + 1) / 2\n",
    "ax.plot(x1, x2, c='b')\n",
    "\n",
    "ax.fill([0, 1, 2, 2, 0], [0.5, 0, 0, 2, 2], \"gray\")\n",
    "plt.axis(\"equal\")\n",
    "\n",
    "plt.show()"
   ]
  },
  {
   "cell_type": "code",
   "execution_count": null,
   "metadata": {},
   "outputs": [],
   "source": [
    "ax = plot_init()\n",
    "\n",
    "x1 = np.arange(0, 2, 0.01)\n",
    "x2 = (-x1 + 1) / 2\n",
    "ax.plot(x1, x2, c='b')\n",
    "x2 = (-x1 + 1) / 3\n",
    "ax.plot(x1, x2, c='b')\n",
    "x2 = 1/2 * x1 - 1/2\n",
    "ax.plot(x1, x2, c='b')\n",
    "x1 = np.ones(200)\n",
    "x2 = np.arange(-1, 1, 0.01)\n",
    "ax.plot(x1, x2, c='b')\n",
    "\n",
    "ax.fill([0, 0, 1], [0, 1/3, 0], \"gray\")\n",
    "plt.xlim(-1, 2)\n",
    "plt.ylim(-1, 1)\n",
    "plt.axis(\"equal\")\n",
    "plt.xticks(np.arange(-1, 2, 0.5))\n",
    "plt.yticks(np.arange(-1, 1.1, 0.5))\n",
    "\n",
    "plt.show()"
   ]
  },
  {
   "cell_type": "markdown",
   "metadata": {},
   "source": [
    "### <font style=\"color:red\">I will gladly pay you tuesday</font>\n",
    "- I <font style=\"color:red\">really</font> like hamburgers\n",
    "- Let's suppose in the diet problem, I decide to <font style=\"color:red\">maximize</font> the number of hamburgers I eat.\n",
    "- Let: $$B\\subset F$$\n",
    "$$B = \\{QP,MD,BM\\}$$\n",
    "- My new objective is to:\n",
    "$$ \\max \\sum_{j \\in B} x_b $$"
   ]
  },
  {
   "cell_type": "code",
   "execution_count": 4,
   "metadata": {
    "slideshow": {
     "slide_type": "slide"
    }
   },
   "outputs": [
    {
     "data": {
      "text/html": [
       "<div>\n",
       "<style scoped>\n",
       "    .dataframe tbody tr th:only-of-type {\n",
       "        vertical-align: middle;\n",
       "    }\n",
       "\n",
       "    .dataframe tbody tr th {\n",
       "        vertical-align: top;\n",
       "    }\n",
       "\n",
       "    .dataframe thead th {\n",
       "        text-align: right;\n",
       "    }\n",
       "</style>\n",
       "<table border=\"1\" class=\"dataframe\">\n",
       "  <thead>\n",
       "    <tr style=\"text-align: right;\">\n",
       "      <th></th>\n",
       "      <th>Solver Status</th>\n",
       "      <th>Model Status</th>\n",
       "      <th>Objective</th>\n",
       "      <th>#equ</th>\n",
       "      <th>#var</th>\n",
       "      <th>Model Type</th>\n",
       "      <th>Solver</th>\n",
       "      <th>Solver Time</th>\n",
       "    </tr>\n",
       "  </thead>\n",
       "  <tbody>\n",
       "    <tr>\n",
       "      <td>0</td>\n",
       "      <td>Normal (1)</td>\n",
       "      <td>Unbounded (3)</td>\n",
       "      <td>50.0</td>\n",
       "      <td>8</td>\n",
       "      <td>10</td>\n",
       "      <td>LP</td>\n",
       "      <td>CPLEX</td>\n",
       "      <td>0.023</td>\n",
       "    </tr>\n",
       "  </tbody>\n",
       "</table>\n",
       "</div>"
      ],
      "text/plain": [
       "  Solver Status   Model Status  Objective #equ #var Model Type Solver  \\\n",
       "0    Normal (1)  Unbounded (3)       50.0    8   10         LP  CPLEX   \n",
       "\n",
       "  Solver Time  \n",
       "0       0.023  "
      ]
     },
     "execution_count": 4,
     "metadata": {},
     "output_type": "execute_result"
    }
   ],
   "source": [
    "%%gams\n",
    "set beef(food) / QP, MD, BM /;\n",
    "\n",
    "free variable total_beef;\n",
    "\n",
    "equations\n",
    "    beef_eqn    Amount of beef I get to eat\n",
    ";\n",
    "\n",
    "beef_eqn..\n",
    "    total_beef =E= sum(beef,x(beef));\n",
    "\n",
    "model beef1 /min_nutr_eqn, beef_eqn/;\n",
    "solve beef1 using lp maximizing total_beef;"
   ]
  },
  {
   "cell_type": "markdown",
   "metadata": {},
   "source": [
    "### Mmmm...beef\n",
    "- Always check the solver status in the solution report when you aredone running GAMS.\n",
    "- ```gams\n",
    "**** SOLVER STATUS     1 NORMAL COMPLETION\n",
    "**** MODEL STATUS      3 UNBOUNDED\n",
    "**** OBJECTIVE VALUE               50.0000\n",
    "```\n",
    "- Obviously, we haven't the number of hamburgers we're allowed to eat.\n",
    "- We need to add some constraints to do this!\n",
    "- Let's imagine that my wife loves me, and she says that I can't eat too many \"bad\" nutrients."
   ]
  },
  {
   "cell_type": "code",
   "execution_count": 5,
   "metadata": {
    "slideshow": {
     "slide_type": "slide"
    }
   },
   "outputs": [
    {
     "data": {
      "text/html": [
       "<div>\n",
       "<style scoped>\n",
       "    .dataframe tbody tr th:only-of-type {\n",
       "        vertical-align: middle;\n",
       "    }\n",
       "\n",
       "    .dataframe tbody tr th {\n",
       "        vertical-align: top;\n",
       "    }\n",
       "\n",
       "    .dataframe thead th {\n",
       "        text-align: right;\n",
       "    }\n",
       "</style>\n",
       "<table border=\"1\" class=\"dataframe\">\n",
       "  <thead>\n",
       "    <tr style=\"text-align: right;\">\n",
       "      <th></th>\n",
       "      <th>Solver Status</th>\n",
       "      <th>Model Status</th>\n",
       "      <th>Objective</th>\n",
       "      <th>#equ</th>\n",
       "      <th>#var</th>\n",
       "      <th>Model Type</th>\n",
       "      <th>Solver</th>\n",
       "      <th>Solver Time</th>\n",
       "    </tr>\n",
       "  </thead>\n",
       "  <tbody>\n",
       "    <tr>\n",
       "      <td>0</td>\n",
       "      <td>Normal (1)</td>\n",
       "      <td>Optimal Global (1)</td>\n",
       "      <td>10.8108</td>\n",
       "      <td>10</td>\n",
       "      <td>10</td>\n",
       "      <td>LP</td>\n",
       "      <td>CPLEX</td>\n",
       "      <td>0.024</td>\n",
       "    </tr>\n",
       "  </tbody>\n",
       "</table>\n",
       "</div>"
      ],
      "text/plain": [
       "  Solver Status        Model Status  Objective #equ #var Model Type Solver  \\\n",
       "0    Normal (1)  Optimal Global (1)    10.8108   10   10         LP  CPLEX   \n",
       "\n",
       "  Solver Time  \n",
       "0       0.024  "
      ]
     },
     "execution_count": 5,
     "metadata": {},
     "output_type": "execute_result"
    }
   ],
   "source": [
    "%%gams\n",
    "set bad_nutr(nutr) / Cals, Carb /;\n",
    "\n",
    "parameter max_nutr(bad_nutr);\n",
    "max_nutr(bad_nutr) = 2 * min_nutr(bad_nutr);\n",
    "*display max_nutr;\n",
    "\n",
    "equations\n",
    "    max_nutr_req(nutr)  \"Helen doesn't want the insurance money yet\"\n",
    ";\n",
    "\n",
    "max_nutr_req(bad_nutr)..\n",
    "    sum(food,a(bad_nutr,food)*x(food)) =L= max_nutr(bad_nutr);\n",
    "\n",
    "model beef2 /min_nutr_eqn, max_nutr_req, beef_eqn/;\n",
    "solve beef2 using lp maximizing total_beef;"
   ]
  },
  {
   "cell_type": "markdown",
   "metadata": {},
   "source": [
    "### The Simplex Method: What can go wrong?\n",
    "- Simplex method step 0: \n",
    "    - Start from an extreme point\n",
    "---\n",
    "- What if there <i>are</i> no extreme points?\n",
    "    - This usually means that the feasible region is empty\n",
    "    - The instance is infeasible\n",
    "$$P=\\{x \\in \\mathbb{R}^2: x_1 + x_2 \\leq 1, x_1 + x+2 \\geq 2\\}$$\n",
    "---\n",
    "- How will we know if an instance is infeasible?\n",
    "    - \"Big-M\"...\"Two Phase\"?\n",
    "    - The solver will tell us!\n",
    "\n",
    "### Warning!\n",
    "- It may be hard to blame one constraint for being infeasible\n",
    "- When building models for the real world, determining what is “causing” the infeasibility may be tough.\n",
    "- For instance, who's \"fault\" is this?\n",
    "$$x_1 - x_2 \\geq 1, x_2 - x_3 \\geq 1, -x_1 + x_3 \\geq 1$$"
   ]
  },
  {
   "cell_type": "markdown",
   "metadata": {},
   "source": [
    "### My Wife Loves me\n",
    "- In the interest of extending my life, my wife has requested that I obey the following constraints:\n",
    "    - Don't eat more than 3 sandwiches per day\n",
    "    $$x_{QP}+x_{MD}+x_{BM}+x_{FF}+x_{MC}+x_{SM}\\leq3$$\n",
    "    - Don't drink too much\n",
    "    $$X_{1M} + X_{OJ} \\leq 3$$\n",
    "    - Only two french fries per day\n",
    "    $$X_{FF} \\leq 2$$\n",
    "---\n",
    "- With these constraints, the problem is <font style=\"color:red\">infeasible</font>!"
   ]
  },
  {
   "cell_type": "code",
   "execution_count": 6,
   "metadata": {
    "slideshow": {
     "slide_type": "slide"
    }
   },
   "outputs": [
    {
     "data": {
      "text/html": [
       "<div>\n",
       "<style scoped>\n",
       "    .dataframe tbody tr th:only-of-type {\n",
       "        vertical-align: middle;\n",
       "    }\n",
       "\n",
       "    .dataframe tbody tr th {\n",
       "        vertical-align: top;\n",
       "    }\n",
       "\n",
       "    .dataframe thead th {\n",
       "        text-align: right;\n",
       "    }\n",
       "</style>\n",
       "<table border=\"1\" class=\"dataframe\">\n",
       "  <thead>\n",
       "    <tr style=\"text-align: right;\">\n",
       "      <th></th>\n",
       "      <th>Solver Status</th>\n",
       "      <th>Model Status</th>\n",
       "      <th>Objective</th>\n",
       "      <th>#equ</th>\n",
       "      <th>#var</th>\n",
       "      <th>Model Type</th>\n",
       "      <th>Solver</th>\n",
       "      <th>Solver Time</th>\n",
       "    </tr>\n",
       "  </thead>\n",
       "  <tbody>\n",
       "    <tr>\n",
       "      <td>0</td>\n",
       "      <td>Normal (1)</td>\n",
       "      <td>InfeasibleGlobal (4)</td>\n",
       "      <td>3.0</td>\n",
       "      <td>12</td>\n",
       "      <td>10</td>\n",
       "      <td>LP</td>\n",
       "      <td>CPLEX</td>\n",
       "      <td>0.023</td>\n",
       "    </tr>\n",
       "  </tbody>\n",
       "</table>\n",
       "</div>"
      ],
      "text/plain": [
       "  Solver Status          Model Status  Objective #equ #var Model Type Solver  \\\n",
       "0    Normal (1)  InfeasibleGlobal (4)        3.0   12   10         LP  CPLEX   \n",
       "\n",
       "  Solver Time  \n",
       "0       0.023  "
      ]
     },
     "execution_count": 6,
     "metadata": {},
     "output_type": "execute_result"
    }
   ],
   "source": [
    "%%gams\n",
    "\n",
    "equations\n",
    "    sandwich_eqn    \"Only 3 sandwiches per day\"\n",
    "    drinking_eqn    \"Don't drink too much\"\n",
    "*    ff_eqn         \"French fries aren't good for you\"\n",
    ";\n",
    "\n",
    "sandwich_eqn..\n",
    "    x(\"QP\") + x(\"MD\") + x(\"BM\") + x(\"FF\") + x(\"MC\") + x(\"SM\") =L= 3;\n",
    "\n",
    "drinking_eqn..\n",
    "    x(\"OJ\") + x(\"1M\") =L= 3;\n",
    "\n",
    "x.up(\"FF\") = 2;\n",
    "\n",
    "option limcol = 0;\n",
    "option limrow = 100;\n",
    "\n",
    "model helen /min_nutr_eqn, max_nutr_req, beef_eqn, sandwich_eqn, drinking_eqn /;\n",
    "\n",
    "solve helen using lp maximizing total_beef;"
   ]
  },
  {
   "cell_type": "markdown",
   "metadata": {},
   "source": [
    "### Handling Infeasibility\n",
    "- Our first trick: Introduce slack/surplus variables and try to minimize the slack/surplus.\n",
    "- Suppose I think that the “too much drinking” constraint is the one causing the problem to be infeasible. \n",
    "- <font style=\"color:red\">New decision variable </font>s: Number of extra drinks (over three) that I must drink in order to get a feasible solution\n",
    "$$X_{1M} + x_{OJ} -s \\leq 3, s\\geq 0$$\n",
    "- <font style=\"color:red\">New objective:</font> min s"
   ]
  },
  {
   "cell_type": "code",
   "execution_count": 7,
   "metadata": {
    "slideshow": {
     "slide_type": "slide"
    }
   },
   "outputs": [
    {
     "data": {
      "text/html": [
       "<div>\n",
       "<style scoped>\n",
       "    .dataframe tbody tr th:only-of-type {\n",
       "        vertical-align: middle;\n",
       "    }\n",
       "\n",
       "    .dataframe tbody tr th {\n",
       "        vertical-align: top;\n",
       "    }\n",
       "\n",
       "    .dataframe thead th {\n",
       "        text-align: right;\n",
       "    }\n",
       "</style>\n",
       "<table border=\"1\" class=\"dataframe\">\n",
       "  <thead>\n",
       "    <tr style=\"text-align: right;\">\n",
       "      <th></th>\n",
       "      <th>Solver Status</th>\n",
       "      <th>Model Status</th>\n",
       "      <th>Objective</th>\n",
       "      <th>#equ</th>\n",
       "      <th>#var</th>\n",
       "      <th>Model Type</th>\n",
       "      <th>Solver</th>\n",
       "      <th>Solver Time</th>\n",
       "    </tr>\n",
       "  </thead>\n",
       "  <tbody>\n",
       "    <tr>\n",
       "      <td>0</td>\n",
       "      <td>Normal (1)</td>\n",
       "      <td>Optimal Global (1)</td>\n",
       "      <td>12.9444</td>\n",
       "      <td>12</td>\n",
       "      <td>11</td>\n",
       "      <td>LP</td>\n",
       "      <td>CPLEX</td>\n",
       "      <td>0.023</td>\n",
       "    </tr>\n",
       "  </tbody>\n",
       "</table>\n",
       "</div>"
      ],
      "text/plain": [
       "  Solver Status        Model Status  Objective #equ #var Model Type Solver  \\\n",
       "0    Normal (1)  Optimal Global (1)    12.9444   12   11         LP  CPLEX   \n",
       "\n",
       "  Solver Time  \n",
       "0       0.023  "
      ]
     },
     "execution_count": 7,
     "metadata": {},
     "output_type": "execute_result"
    }
   ],
   "source": [
    "%%gams\n",
    "free variables\n",
    "    s   Surplus variable for drinking_eqn\n",
    ";\n",
    "\n",
    "s.lo = 0;\n",
    "\n",
    "equations\n",
    "    drinking_eqn_2    Don't drink too much (count extras)\n",
    ";\n",
    "\n",
    "drinking_eqn_2..\n",
    "         x(\"OJ\") + x(\"1M\") =L= 3 + s;\n",
    "\n",
    "model mindrink   /min_nutr_eqn, max_nutr_req, beef_eqn, sandwich_eqn,\n",
    "    drinking_eqn_2 /;\n",
    "\n",
    "solve mindrink using lp minimizing s;"
   ]
  },
  {
   "cell_type": "markdown",
   "metadata": {},
   "source": [
    "### The Simplex Method: What else can go wrong?\n",
    "- Simplex method: Step 2\n",
    "    - Move along d until you hit another extreme point.\n",
    "- What if moving in our \"improving direction\" doesn't take us anywhere? \n",
    "$$\\max x_1 + x_2$$\n",
    "$$\\text{s.t. } x_1 + 2x_2 \\leq 1$$\n",
    "$$x_1 \\leq 1$$\n",
    "$$x_1 + 3x_2 \\leq 1$$\n",
    "$$2x_1 - 4x_2 \\leq 2 $$\n",
    "$$x1, x2 \\geq 0$$\n"
   ]
  },
  {
   "cell_type": "code",
   "execution_count": 70,
   "metadata": {},
   "outputs": [
    {
     "data": {
      "image/png": "[encoded data removed]",
      "text/plain": [
       "<Figure size 576x576 with 1 Axes>"
      ]
     },
     "metadata": {
      "needs_background": "light"
     },
     "output_type": "display_data"
    }
   ],
   "source": [
    "ax = plot_init()\n",
    "\n",
    "x1 = np.arange(-0.5, 2, 0.01)\n",
    "x2 = (-x1 + 1) / 2\n",
    "ax.plot(x1, x2, c='b')\n",
    "x2 = (-x1 + 1) / 3\n",
    "ax.plot(x1, x2, c='b')\n",
    "x2 = 1/2 * x1 - 1/2\n",
    "ax.plot(x1, x2, c='b')\n",
    "x1 = np.ones(200)\n",
    "x2 = np.arange(-1, 1, 0.01)\n",
    "ax.plot(x1, x2, c='b')\n",
    "\n",
    "ax.fill([0, 0, 1], [0, 1/3, 0], \"gray\")\n",
    "plt.axis(\"equal\")\n",
    "\n",
    "plt.show()"
   ]
  },
  {
   "cell_type": "markdown",
   "metadata": {},
   "source": [
    "### I'm a degenerate\n",
    "- The previous case is known as the LP being degenerate\n",
    "- Degeneracy is what happens when more than n inequalities intersect at a point. \n",
    "- This doesn’t seem likely to happen, but it does happenin nearly all practical problems.\n",
    "- This is not really a modeling problem, but it can lead tocomputational difficulties.\n",
    "- What do solvers do?\n",
    "    - Perturb the inequalities so they don’t intersect\n",
    "    - Smallest subscript rule (but they actually don't do this)\n",
    "\n",
    "### Multiple Optimal Solutions\n",
    "- What if <i>c</i> is orthogonal to an improving direction <i>d</i>?\n",
    "- maximize:\n",
    "$$x_1 + x_2$$\n",
    "- subject to:\n",
    "$$x_1+x_2 \\leq 3$$\n",
    "$$x_1, x_2 \\geq 0$$\n",
    "- We get an infinite number of optimal solutions. "
   ]
  },
  {
   "cell_type": "code",
   "execution_count": 68,
   "metadata": {},
   "outputs": [
    {
     "data": {
      "image/png": "[encoded data removed]",
      "text/plain": [
       "<Figure size 576x576 with 1 Axes>"
      ]
     },
     "metadata": {
      "needs_background": "light"
     },
     "output_type": "display_data"
    }
   ],
   "source": [
    "ax = plot_init()\n",
    "\n",
    "x1 = np.arange(-0.5, 3.5 , 0.01)\n",
    "x2 = -x1 + 3\n",
    "ax.plot(x1, x2, c='b')\n",
    "ax.fill([0, 0, 3], [0, 3, 0], \"gray\")\n",
    "plt.axis(\"equal\")\n",
    "\n",
    "plt.show()"
   ]
  },
  {
   "cell_type": "markdown",
   "metadata": {},
   "source": [
    "GAMS allows you to compute stuff after you've solved the problem. Let's see how much Vitamin C I ingested in the last solution"
   ]
  },
  {
   "cell_type": "code",
   "execution_count": null,
   "metadata": {
    "slideshow": {
     "slide_type": "slide"
    }
   },
   "outputs": [],
   "source": [
    "%%gams\n",
    "scalar jtlvitc;\n",
    "\n",
    "jtlvitc = sum(food, a(\"VitC\",food) * x.l(food));"
   ]
  },
  {
   "cell_type": "code",
   "execution_count": null,
   "metadata": {
    "slideshow": {
     "slide_type": "slide"
    }
   },
   "outputs": [],
   "source": [
    "%gams_pull -d x jtlvitc\n",
    "display(x,jtlvitc)"
   ]
  },
  {
   "cell_type": "code",
   "execution_count": null,
   "metadata": {
    "slideshow": {
     "slide_type": "slide"
    }
   },
   "outputs": [],
   "source": [
    "%%gams\n",
    "s.fx = s.l;\n",
    "\n",
    "* mindrink.holdfixed = 1;\n",
    "solve mindrink using lp max total_beef;"
   ]
  },
  {
   "cell_type": "code",
   "execution_count": null,
   "metadata": {
    "slideshow": {
     "slide_type": "slide"
    }
   },
   "outputs": [],
   "source": [
    "%gams_pull -d s x\n",
    "display(s,x)"
   ]
  },
  {
   "cell_type": "code",
   "execution_count": null,
   "metadata": {},
   "outputs": [],
   "source": [
    "%gams_reset"
   ]
  },
  {
   "cell_type": "code",
   "execution_count": null,
   "metadata": {},
   "outputs": [],
   "source": [
    "%gams_cleanup -k"
   ]
  }
 ],
 "metadata": {
  "celltoolbar": "Slideshow",
  "kernelspec": {
   "display_name": "Python 3",
   "language": "python",
   "name": "python3"
  },
  "language_info": {
   "codemirror_mode": {
    "name": "ipython",
    "version": 3
   },
   "file_extension": ".py",
   "mimetype": "text/x-python",
   "name": "python",
   "nbconvert_exporter": "python",
   "pygments_lexer": "ipython3",
   "version": "3.6.9"
  }
 },
 "nbformat": 4,
 "nbformat_minor": 2
}
