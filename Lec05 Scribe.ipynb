{
 "cells": [
  {
   "cell_type": "markdown",
   "metadata": {
    "slideshow": {
     "slide_type": "slide"
    }
   },
   "source": [
    "### CS524: Introduction to Optimization Lecture 4\n",
    "\n",
    "Michael Ferris<br> Computer Sciences Department <br> University of Wisconsin-Madison\n",
    "\n",
    "September 15, 2019"
   ]
  },
  {
   "cell_type": "markdown",
   "metadata": {
    "slideshow": {
     "slide_type": "slide"
    }
   },
   "source": [
    "We’ll talk about unbounded, infeasible, and degenerate LPs using a diet problem"
   ]
  },
  {
   "cell_type": "code",
   "execution_count": 2,
   "metadata": {
    "slideshow": {
     "slide_type": "slide"
    }
   },
   "outputs": [],
   "source": [
    "%load_ext gams_magic\n",
    "import pandas as pd"
   ]
  },
  {
   "cell_type": "markdown",
   "metadata": {
    "slideshow": {
     "slide_type": "slide"
    }
   },
   "source": [
    "#### Diet problem\n",
    "We have foods and nutrients and we want to try to generate a general/abstract model: How to meet your daily nutritional requirements at a minimum cost?\n",
    "Similar to BigTopBrass trophy example, we abstract out the notion of the data and make a general model for a particular problem. "
   ]
  },
  {
   "cell_type": "markdown",
   "metadata": {
    "slideshow": {
     "slide_type": "slide"
    }
   },
   "source": [
    "Variables:   \n",
    "$x_j$: Be the number of item $j$ to eat.  \n",
    "cost:$$1.84x_{QP} + 2.19x_{MD} + 1.84x_{BM} + 1.44x_{FF} + 2.29x_{MC} + 0.77x_{FR} + 1.9x_{SM} + 0.6x_{1M} + 0.72x_{OJ}$$ \n",
    "Other constraints:  \n",
    "Protein:\n",
    "$$28x_{QP} + 2.19x_{MD} + 1.84x_{BM} + 1.44x_{FF} + 2.29x_{MC} \\\\+  0.77x_{FR} + 1.29x_{SM} + 0.6x_{1M} + 0.72x_{OJ} \\ge 55$$  \n",
    "Vitamin A: \n",
    "$$15x_{QP} + 15x_{MD} + 6x_{BM} + 2x_{FF} + 8x_{MC} \\\\+ 4x_{SM} + 10x_{1M} + 2x_{OJ} \\ge 100$$  \n",
    "Vitamin C:\n",
    "$$6x_{QP} + 10x_{MD} + 2x_{BM} + 15x_{MC} + 15x_{FR} \\\\+ 4x_{1M} + 120x_{OJ} \\ge 100$$\n",
    "Calcium:\n",
    "$$30x_{QP} + 20x_{MD} + 25x_{BM} + 15x_{FF} + 15x_{MC} \\\\+ 20x_{SM} + 30x_{1M} + 2x_{OJ} \\ge 100$$  \n",
    "Iron: \n",
    "$$20x_{QP} + 20x_{MD} + 20x_{BM} + 10x_{FF} + 8x_{MC} \\\\+ 2x_{FR} + 15x_{SM} + 2x_{OJ} \\ge 100$$  \n",
    "Calories:\n",
    "$$510x_{QP} + 370x_{MD} + 500x_{BM} + 370x_{FF} + 400x_{MC} \\\\+ 220x_{FR} + 345x_{SM} + 110x_{1M} + 80x_{OJ} \\ge 2000$$ \n",
    "Carbs:\n",
    "$$34x_{QP} + 35x_{MD} + 42x_{BM} + 38x_{FF} + 42x_{MC}\\\\ + 26x_{FR} + 27x_{SM} + 12x_{1M} + 20x_{OJ} \\ge 350$$  \n",
    "$$x_{QP}, x_{MD}, x_{BM}, x_{FF}, x_{MC}, x_{FR}, x_{SM}, x_{1M}, x_{OJ} \\ge 0$$  "
   ]
  },
  {
   "cell_type": "markdown",
   "metadata": {
    "slideshow": {
     "slide_type": "slide"
    }
   },
   "source": [
    "#### The Set View\n",
    "##### Set\n",
    "- $F$: Set of possible foods\n",
    "- $N$: Set of nutrional requirements\n",
    "\n",
    "##### Parameter\n",
    "- $c_j$: Per unit cost of item $j \\in F$\n",
    "- $i$ : Lower Bound on amount of nutrient $i \\in N$\n",
    "- $u_i$ : Upper Bound on amount of nutrient $i \\in N$\n",
    "- $a_{ij}$ : Amount of nutrient $i \\in N$ in food $j \\in F$\n",
    "\n",
    "#### Problem\n",
    "$$\n",
    "\\min \\sum_{j \\in F} c_jx_j \\\\\n",
    "l_i \\le \\sum_{j \\in F}a_{ij}x_j \\le u_i \\quad \\forall i \\in N \\\\\n",
    "x_j \\ge 0 \\quad \\forall j \\in F\n",
    "$$"
   ]
  },
  {
   "cell_type": "code",
   "execution_count": null,
   "metadata": {
    "slideshow": {
     "slide_type": "slide"
    }
   },
   "outputs": [],
   "source": [
    "%%gams\n",
    "$title McGreasy Diet Problem\n",
    "\n",
    "$ontext\n",
    "A simple diet model.\n",
    "Data taken from \"Optimization Models\",\n",
    "Chapter 1, by Robert Fourer.\n",
    "$offtext\n",
    "\n",
    "set food /QP, MD, BM, FF, MC, FR, SM, 1M, OJ/;\n",
    "set nutr /Prot, VitA, VitC, Calc, Iron, Cals, Carb/;\n",
    "\n",
    "table a(nutr,food)  per unit nutrients\n",
    "        QP  MD  BM  FF  MC  FR  SM  1M   OJ\n",
    "Prot    28  24  25  14  31   3  15   9    1\n",
    "VitA    15  15   6   2   8   0   4  10    2\n",
    "VitC     6  10   2   0  15  15   0   4  120\n",
    "Calc    30  20  25  15  15   0  20  30    2\n",
    "Iron    20  20  20  10   8   2  15   0    2\n",
    "Cals   510 370 500 370 400 220 345 110   80\n",
    "Carb    34  33  42  38  42  26  27  12   20\n",
    ";\n",
    "\n",
    "parameter min_nutr(nutr) /Prot 55, VitA 100, VitC 100, Calc 100,\n",
    "    Iron 100, Cals 2000, Carb 350 /;\n",
    "\n",
    "parameter cost(food) /QP 1.84, MD 2.19, BM 1.84, FF 1.44, MC 2.29,\n",
    "FR 0.77, SM 1.29, 1M 0.6, OJ 0.72 /;\n",
    "\n",
    "free variables\n",
    "    total_cost  Total Cost of Daily Diet\n",
    ";\n",
    "positive variables\n",
    "    x(food)     Number of each type of food to eat\n",
    ";\n",
    "\n",
    "\n",
    "equations\n",
    "    cost_eqn        Define Objective\n",
    "    min_nutr_eqn(nutr)    Minimum Daily Requirement\n",
    ";\n",
    "\n",
    "\n",
    "min_nutr_eqn(nutr)..\n",
    "    sum(food,a(nutr,food)*x(food)) =G= min_nutr(nutr) ;\n",
    "\n",
    "cost_eqn..\n",
    "    total_cost =E= sum(food,cost(food)*x(food)) ;\n",
    "\n",
    "model diet1 /cost_eqn, min_nutr_eqn/;\n",
    "solve diet1 using lp min total_cost;"
   ]
  },
  {
   "cell_type": "code",
   "execution_count": null,
   "metadata": {
    "slideshow": {
     "slide_type": "slide"
    }
   },
   "outputs": [],
   "source": [
    "%gams_pull -d x\n",
    "display(x)\n",
    "x = pd.pivot_table(x[x['level'] != 0], index=['food'], values=['level'])\n",
    "display(x)"
   ]
  },
  {
   "cell_type": "markdown",
   "metadata": {
    "slideshow": {
     "slide_type": "slide"
    }
   },
   "source": [
    "#### Tips for Gams:  \n",
    "- command `$exit` can \"ignore the rest of the files\".\n",
    "- use `table a(nutr<, food<)` so we don’t have to list the set domains multiple times. The code will extract out the nutrients based on what is in the table. "
   ]
  },
  {
   "cell_type": "markdown",
   "metadata": {
    "slideshow": {
     "slide_type": "slide"
    }
   },
   "source": [
    "#### Why gams?\n",
    "GAMS is the biggest language used in economics and operations research. Plus it’s easy to link to python. If you don't have access to a solver for your particular problem, you can have access to their solvers (http://www.neos-server.org/)."
   ]
  },
  {
   "cell_type": "markdown",
   "metadata": {},
   "source": [
    "#### The simplex method\n",
    "0. Start from an extreme point.\n",
    "1. Find an improving direction d. If none exists, STOP.\n",
    "The extreme point is an optimal solution.\n",
    "2. Move along d until you hit a new extreme point. Go to 1."
   ]
  },
  {
   "cell_type": "code",
   "execution_count": null,
   "metadata": {
    "slideshow": {
     "slide_type": "slide"
    }
   },
   "outputs": [],
   "source": [
    "%%gams\n",
    "set beef(food) / QP, MD, BM /;\n",
    "\n",
    "free variable total_beef;\n",
    "\n",
    "equations\n",
    "    beef_eqn    Amount of beef I get to eat\n",
    ";\n",
    "\n",
    "beef_eqn..\n",
    "    total_beef =E= sum(beef,x(beef));\n",
    "\n",
    "model beef1 /min_nutr_eqn, beef_eqn/;\n",
    "solve beef1 using lp maximizing total_beef;"
   ]
  },
  {
   "cell_type": "code",
   "execution_count": null,
   "metadata": {
    "slideshow": {
     "slide_type": "slide"
    }
   },
   "outputs": [],
   "source": [
    "%%gams\n",
    "set ba%%gams\n",
    "set beef(food) / QP, MD, BM /;\n",
    "\n",
    "free variable total_beef;\n",
    "\n",
    "equations\n",
    "    beef_eqn    Amount of beef I get to eat\n",
    ";\n",
    "\n",
    "beef_eqn..\n",
    "    total_beef =E= sum(beef,x(beef));\n",
    "\n",
    "model beef1 /min_nutr_eqn, beef_eqn/;\n",
    "solve beef1 using lp maximizing total_beef;d_nutr(nutr) / Cals, Carb /;\n",
    "\n",
    "parameter max_nutr(bad_nutr);\n",
    "max_nutr(bad_nutr) = 2 * min_nutr(bad_nutr);\n",
    "*display max_nutr;\n",
    "\n",
    "equations\n",
    "    max_nutr_req(nutr)  \"Helen doesn't want the insurance money yet\"\n",
    ";\n",
    "\n",
    "max_nutr_req(bad_nutr)..\n",
    "    sum(food,a(bad_nutr,food)*x(food)) =L= max_nutr(bad_nutr);\n",
    "\n",
    "model beef2 /min_nutr_eqn, max_nutr_req, beef_eqn/;\n",
    "solve beef2 using lp maximizing total_beef;"
   ]
  },
  {
   "cell_type": "code",
   "execution_count": null,
   "metadata": {
    "slideshow": {
     "slide_type": "slide"
    }
   },
   "outputs": [],
   "source": [
    "%%gams\n",
    "\n",
    "equations\n",
    "    sandwich_eqn    \"Only 3 sandwiches per day\"\n",
    "    drinking_eqn    \"Don't drink too much\"\n",
    "*    ff_eqn         \"French fries aren't good for you\"\n",
    ";\n",
    "\n",
    "sandwich_eqn..\n",
    "    x(\"QP\") + x(\"MD\") + x(\"BM\") + x(\"FF\") + x(\"MC\") + x(\"SM\") =L= 3;\n",
    "\n",
    "drinking_eqn..\n",
    "    x(\"OJ\") + x(\"1M\") =L= 3;\n",
    "\n",
    "x.up(\"FF\") = 2;\n",
    "\n",
    "option limcol = 0;\n",
    "option limrow = 100;\n",
    "\n",
    "model helen /min_nutr_eqn, max_nutr_req, beef_eqn, sandwich_eqn, drinking_eqn /;\n",
    "\n",
    "solve helen using lp maximizing total_beef;"
   ]
  },
  {
   "cell_type": "code",
   "execution_count": null,
   "metadata": {
    "slideshow": {
     "slide_type": "slide"
    }
   },
   "outputs": [],
   "source": [
    "%%gams\n",
    "free variables\n",
    "    s   Surplus variable for drinking_eqn\n",
    ";\n",
    "\n",
    "s.lo = 0;\n",
    "\n",
    "equations\n",
    "    drinking_eqn_2    Don't drink too much (count extras)\n",
    ";\n",
    "\n",
    "drinking_eqn_2..\n",
    "         x(\"OJ\") + x(\"1M\") =L= 3 + s;\n",
    "\n",
    "model mindrink   /min_nutr_eqn, max_nutr_req, beef_eqn, sandwich_eqn,\n",
    "    drinking_eqn_2 /;\n",
    "\n",
    "solve mindrink using lp minimizing s;"
   ]
  },
  {
   "cell_type": "code",
   "execution_count": null,
   "metadata": {
    "slideshow": {
     "slide_type": "slide"
    }
   },
   "outputs": [],
   "source": [
    "%%gams\n",
    "scalar jtlvitc;\n",
    "\n",
    "jtlvitc = sum(food, a(\"VitC\",food) * x.l(food));"
   ]
  },
  {
   "cell_type": "code",
   "execution_count": null,
   "metadata": {
    "slideshow": {
     "slide_type": "slide"
    }
   },
   "outputs": [],
   "source": [
    "%gams_pull -d x jtlvitc\n",
    "display(x,jtlvitc)"
   ]
  },
  {
   "cell_type": "code",
   "execution_count": null,
   "metadata": {
    "slideshow": {
     "slide_type": "slide"
    }
   },
   "outputs": [],
   "source": [
    "%%gams\n",
    "s.fx = s.l;\n",
    "\n",
    "* mindrink.holdfixed = 1;\n",
    "solve mindrink using lp max total_beef;"
   ]
  },
  {
   "cell_type": "code",
   "execution_count": null,
   "metadata": {
    "slideshow": {
     "slide_type": "slide"
    }
   },
   "outputs": [],
   "source": [
    "%gams_pull -d s x\n",
    "display(s,x)"
   ]
  },
  {
   "cell_type": "code",
   "execution_count": null,
   "metadata": {},
   "outputs": [],
   "source": [
    "%gams_reset"
   ]
  },
  {
   "cell_type": "code",
   "execution_count": null,
   "metadata": {},
   "outputs": [],
   "source": [
    "%gams_cleanup -k"
   ]
  }
 ],
 "metadata": {
  "celltoolbar": "Slideshow",
  "kernelspec": {
   "display_name": "Python 3",
   "language": "python",
   "name": "python3"
  },
  "language_info": {
   "codemirror_mode": {
    "name": "ipython",
    "version": 3
   },
   "file_extension": ".py",
   "mimetype": "text/x-python",
   "name": "python",
   "nbconvert_exporter": "python",
   "pygments_lexer": "ipython3",
   "version": "3.6.9"
  }
 },
 "nbformat": 4,
 "nbformat_minor": 2
}
